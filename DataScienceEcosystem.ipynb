{
 "cells": [
  {
   "cell_type": "markdown",
   "id": "aeae0807",
   "metadata": {},
   "source": [
    "# Data Science Tools and Ecosystem"
   ]
  },
  {
   "cell_type": "markdown",
   "id": "5479b64a",
   "metadata": {},
   "source": [
    "In this notebook, Data Science Tools and Ecosystem are summarized."
   ]
  },
  {
   "cell_type": "markdown",
   "id": "221f67b5",
   "metadata": {},
   "source": [
    "**Objectives:**\n",
    "+ Some of DS popular langs\n",
    "+ Some of DS common libs\n",
    "+ Table\n",
    "+ Ordered & unordered list\n",
    "+ Arithmetic operations"
   ]
  },
  {
   "cell_type": "markdown",
   "id": "6452ceb9",
   "metadata": {},
   "source": [
    "Some of the popular languages that Data Scientists use are:  \n",
    "    1. Python  \n",
    "    2. R  \n",
    "    3. SQL  \n",
    "    4. Java"
   ]
  },
  {
   "cell_type": "markdown",
   "id": "a93c5683",
   "metadata": {},
   "source": [
    "Some of the commonly used libraries used by Data Scientists include:  \n",
    "    1. Pandas  \n",
    "    2. NumPy  \n",
    "    3. SciPy  \n",
    "    4. Matplotlib  \n",
    "    5. ggplot2"
   ]
  },
  {
   "cell_type": "markdown",
   "id": "d1d84b27",
   "metadata": {},
   "source": [
    "| Data Science Tools |\n",
    "| -------------------|\n",
    "| Jupyter Notebook |\n",
    "| VS Code |\n",
    "| JupyterLite |"
   ]
  },
  {
   "cell_type": "markdown",
   "id": "462e0d8a",
   "metadata": {},
   "source": [
    "### Below are a few examples of evaluating arithmetic expressions in Python"
   ]
  },
  {
   "cell_type": "code",
   "execution_count": 2,
   "id": "6b22e449",
   "metadata": {},
   "outputs": [
    {
     "data": {
      "text/plain": [
       "17"
      ]
     },
     "execution_count": 2,
     "metadata": {},
     "output_type": "execute_result"
    }
   ],
   "source": [
    "# This a simple arithmetic expression to mutiply then add integers:\n",
    "(3*4)+5"
   ]
  },
  {
   "cell_type": "code",
   "execution_count": 12,
   "id": "07d5e9bb",
   "metadata": {},
   "outputs": [
    {
     "name": "stdout",
     "output_type": "stream",
     "text": [
      "3.3333333333333335 hours\n"
     ]
    }
   ],
   "source": [
    "# This will convert 200 minutes to hours by diving by 60:\n",
    "h = 200 / 60 \n",
    "print(h,\"hours\")"
   ]
  },
  {
   "cell_type": "markdown",
   "id": "f208433d",
   "metadata": {},
   "source": [
    "## Author\n",
    "Mohamed Hashim Ali"
   ]
  }
 ],
 "metadata": {
  "kernelspec": {
   "display_name": "Python 3 (ipykernel)",
   "language": "python",
   "name": "python3"
  },
  "language_info": {
   "codemirror_mode": {
    "name": "ipython",
    "version": 3
   },
   "file_extension": ".py",
   "mimetype": "text/x-python",
   "name": "python",
   "nbconvert_exporter": "python",
   "pygments_lexer": "ipython3",
   "version": "3.11.5"
  }
 },
 "nbformat": 4,
 "nbformat_minor": 5
}
